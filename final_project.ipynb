{
  "cells": [
    {
      "cell_type": "markdown",
      "metadata": {
        "id": "view-in-github",
        "colab_type": "text"
      },
      "source": [
        "<a href=\"https://colab.research.google.com/github/shoggart/final-project/blob/main/final_project.ipynb\" target=\"_parent\"><img src=\"https://colab.research.google.com/assets/colab-badge.svg\" alt=\"Open In Colab\"/></a>"
      ]
    },
    {
      "cell_type": "markdown",
      "metadata": {
        "id": "IoY1swaRwoCi"
      },
      "source": [
        "# Libraries and Data Cleaning"
      ]
    },
    {
      "cell_type": "markdown",
      "metadata": {
        "id": "6dYJ3b10IPou"
      },
      "source": [
        "Import necessary libraries for fakes news detection program."
      ]
    },
    {
      "cell_type": "code",
      "execution_count": 1,
      "metadata": {
        "id": "MNd5C2moyiYH"
      },
      "outputs": [],
      "source": [
        "import numpy as np\n",
        "import pandas as pd\n",
        "import sklearn\n",
        "import nltk\n",
        "from nltk.corpus import stopwords\n",
        "import string\n",
        "import gensim\n",
        "import keras\n",
        "from keras.models import Sequential\n",
        "from keras import layers\n",
        "import matplotlib.pyplot as plt\n",
        "from sklearn.metrics import confusion_matrix, ConfusionMatrixDisplay\n",
        "from tensorflow.keras.layers import Embedding, LSTM, Dense\n",
        "from sklearn.feature_extraction.text import CountVectorizer\n",
        "from sklearn.model_selection import train_test_split\n",
        "from keras.wrappers.scikit_learn import KerasClassifier\n",
        "from keras.preprocessing.text import Tokenizer\n",
        "from sklearn.model_selection import RandomizedSearchCV\n",
        "from sklearn.naive_bayes import MultinomialNB\n",
        "from keras.backend import clear_session\n",
        "import matplotlib.pyplot as plt\n",
        "from keras.preprocessing.sequence import pad_sequences\n",
        "from sklearn.tree import DecisionTreeClassifier\n",
        "from sklearn.ensemble import RandomForestClassifier\n",
        "from sklearn.linear_model import LogisticRegression\n",
        "from sklearn.linear_model import SGDClassifier\n",
        "from sklearn.ensemble import AdaBoostClassifier\n",
        "from sklearn.neighbors import KNeighborsClassifier\n",
        "from sklearn.svm import SVC\n",
        "from sklearn.model_selection import GridSearchCV\n",
        "from sklearn.metrics import classification_report\n",
        "from google.colab import files"
      ]
    },
    {
      "cell_type": "markdown",
      "metadata": {
        "id": "Xq3PDeR9OSzR"
      },
      "source": [
        "Library to upload datasets to google colab."
      ]
    },
    {
      "cell_type": "code",
      "execution_count": 2,
      "metadata": {
        "colab": {
          "base_uri": "https://localhost:8080/",
          "height": 109,
          "resources": {
            "http://localhost:8080/nbextensions/google.colab/files.js": {
              "data": "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",
              "headers": [
                [
                  "content-type",
                  "application/javascript"
                ]
              ],
              "ok": true,
              "status": 200,
              "status_text": ""
            }
          }
        },
        "id": "YgAHWEvN7Kca",
        "outputId": "1406a955-6c9d-4852-8ba6-20f28644a26c"
      },
      "outputs": [
        {
          "output_type": "display_data",
          "data": {
            "text/plain": [
              "<IPython.core.display.HTML object>"
            ],
            "text/html": [
              "\n",
              "     <input type=\"file\" id=\"files-eda3a5b0-ec1c-4a73-a311-3098ec7510ab\" name=\"files[]\" multiple disabled\n",
              "        style=\"border:none\" />\n",
              "     <output id=\"result-eda3a5b0-ec1c-4a73-a311-3098ec7510ab\">\n",
              "      Upload widget is only available when the cell has been executed in the\n",
              "      current browser session. Please rerun this cell to enable.\n",
              "      </output>\n",
              "      <script src=\"/nbextensions/google.colab/files.js\"></script> "
            ]
          },
          "metadata": {}
        },
        {
          "output_type": "stream",
          "name": "stdout",
          "text": [
            "Saving Fake.csv to Fake.csv\n",
            "Saving True.csv to True.csv\n"
          ]
        }
      ],
      "source": [
        "files.upload()"
      ]
    },
    {
      "cell_type": "markdown",
      "metadata": {
        "id": "WHNAiYiJ0dBf"
      },
      "source": [
        "Read the csv file into a pandas dataframe using the proper encoding scheme."
      ]
    },
    {
      "cell_type": "code",
      "execution_count": 3,
      "metadata": {
        "id": "MskS_NDOrTVL"
      },
      "outputs": [],
      "source": [
        "df = pd.read_csv(\"FA-KES-Dataset.csv\", encoding = \"ISO-8859-1\")\n",
        "# fake = pd.read_csv(\"Fake.csv\")\n",
        "# real = pd.read_csv(\"True.csv\")"
      ]
    },
    {
      "cell_type": "code",
      "execution_count": null,
      "metadata": {
        "id": "PfCvpgmIwZ5h"
      },
      "outputs": [],
      "source": [
        "unknown_publishers = []\n",
        "for index, row in enumerate(real.text.values):\n",
        "  try:\n",
        "    record = row.split('-', maxsplit=1)\n",
        "    record[1]\n",
        "    assert(len(record[0]) < 120)\n",
        "  except:\n",
        "    unknown_publishers.append(index)"
      ]
    },
    {
      "cell_type": "code",
      "execution_count": null,
      "metadata": {
        "id": "P9i3Z96fwllO"
      },
      "outputs": [],
      "source": [
        "real = real.drop(8970, axis=0)\n",
        "publisher = []\n",
        "tmp_text = []\n",
        "for index, row in enumerate(real.text.values):\n",
        "  if index in unknown_publishers:\n",
        "    tmp_text.append(row)\n",
        "    publisher.append(\"Unknown\")\n",
        "  else:\n",
        "    record = row.split('-', maxsplit=1)\n",
        "    publisher.append(record[0].strip())\n",
        "    tmp_text.append(record[1].strip())"
      ]
    },
    {
      "cell_type": "code",
      "execution_count": null,
      "metadata": {
        "id": "3Anm2YBWwvqA"
      },
      "outputs": [],
      "source": [
        "real['publisher'] = publisher\n",
        "real['text'] = tmp_text\n",
        "empty_fake_index = [index for index, text in enumerate(fake.text.tolist()) if str(text).strip()==\"\"]\n",
        "fake['text'] = fake['title'] + \" \" + fake['text']\n",
        "real['text'] = real['title'] + \" \" + real['text']\n",
        "fake['text'] = fake['text'].apply(lambda x: str(x).lower())\n",
        "real['text'] = real['text'].apply(lambda x: str(x).lower())\n",
        "fake['class'] = 0\n",
        "real['class'] = 1\n",
        "real = real[['text', 'class']]\n",
        "fake = fake[['text', 'class']]\n",
        "df = real.append(fake, ignore_index=True)"
      ]
    },
    {
      "cell_type": "code",
      "execution_count": null,
      "metadata": {
        "colab": {
          "base_uri": "https://localhost:8080/",
          "height": 424
        },
        "id": "OZWxfjmqcxyH",
        "outputId": "15958b60-4401-425b-87d4-88f0015b7f27"
      },
      "outputs": [
        {
          "data": {
            "text/html": [
              "\n",
              "  <div id=\"df-9bb6dcbf-9d03-4663-8353-dc6903f27b4b\">\n",
              "    <div class=\"colab-df-container\">\n",
              "      <div>\n",
              "<style scoped>\n",
              "    .dataframe tbody tr th:only-of-type {\n",
              "        vertical-align: middle;\n",
              "    }\n",
              "\n",
              "    .dataframe tbody tr th {\n",
              "        vertical-align: top;\n",
              "    }\n",
              "\n",
              "    .dataframe thead th {\n",
              "        text-align: right;\n",
              "    }\n",
              "</style>\n",
              "<table border=\"1\" class=\"dataframe\">\n",
              "  <thead>\n",
              "    <tr style=\"text-align: right;\">\n",
              "      <th></th>\n",
              "      <th>text</th>\n",
              "      <th>class</th>\n",
              "    </tr>\n",
              "  </thead>\n",
              "  <tbody>\n",
              "    <tr>\n",
              "      <th>0</th>\n",
              "      <td>as u.s. budget fight looms, republicans flip t...</td>\n",
              "      <td>1</td>\n",
              "    </tr>\n",
              "    <tr>\n",
              "      <th>1</th>\n",
              "      <td>u.s. military to accept transgender recruits o...</td>\n",
              "      <td>1</td>\n",
              "    </tr>\n",
              "    <tr>\n",
              "      <th>2</th>\n",
              "      <td>senior u.s. republican senator: 'let mr. muell...</td>\n",
              "      <td>1</td>\n",
              "    </tr>\n",
              "    <tr>\n",
              "      <th>3</th>\n",
              "      <td>fbi russia probe helped by australian diplomat...</td>\n",
              "      <td>1</td>\n",
              "    </tr>\n",
              "    <tr>\n",
              "      <th>4</th>\n",
              "      <td>trump wants postal service to charge 'much mor...</td>\n",
              "      <td>1</td>\n",
              "    </tr>\n",
              "    <tr>\n",
              "      <th>...</th>\n",
              "      <td>...</td>\n",
              "      <td>...</td>\n",
              "    </tr>\n",
              "    <tr>\n",
              "      <th>44892</th>\n",
              "      <td>mcpain: john mccain furious that iran treated ...</td>\n",
              "      <td>0</td>\n",
              "    </tr>\n",
              "    <tr>\n",
              "      <th>44893</th>\n",
              "      <td>justice? yahoo settles e-mail privacy class-ac...</td>\n",
              "      <td>0</td>\n",
              "    </tr>\n",
              "    <tr>\n",
              "      <th>44894</th>\n",
              "      <td>sunnistan: us and allied ‘safe zone’ plan to t...</td>\n",
              "      <td>0</td>\n",
              "    </tr>\n",
              "    <tr>\n",
              "      <th>44895</th>\n",
              "      <td>how to blow $700 million: al jazeera america f...</td>\n",
              "      <td>0</td>\n",
              "    </tr>\n",
              "    <tr>\n",
              "      <th>44896</th>\n",
              "      <td>10 u.s. navy sailors held by iranian military ...</td>\n",
              "      <td>0</td>\n",
              "    </tr>\n",
              "  </tbody>\n",
              "</table>\n",
              "<p>44897 rows × 2 columns</p>\n",
              "</div>\n",
              "      <button class=\"colab-df-convert\" onclick=\"convertToInteractive('df-9bb6dcbf-9d03-4663-8353-dc6903f27b4b')\"\n",
              "              title=\"Convert this dataframe to an interactive table.\"\n",
              "              style=\"display:none;\">\n",
              "        \n",
              "  <svg xmlns=\"http://www.w3.org/2000/svg\" height=\"24px\"viewBox=\"0 0 24 24\"\n",
              "       width=\"24px\">\n",
              "    <path d=\"M0 0h24v24H0V0z\" fill=\"none\"/>\n",
              "    <path d=\"M18.56 5.44l.94 2.06.94-2.06 2.06-.94-2.06-.94-.94-2.06-.94 2.06-2.06.94zm-11 1L8.5 8.5l.94-2.06 2.06-.94-2.06-.94L8.5 2.5l-.94 2.06-2.06.94zm10 10l.94 2.06.94-2.06 2.06-.94-2.06-.94-.94-2.06-.94 2.06-2.06.94z\"/><path d=\"M17.41 7.96l-1.37-1.37c-.4-.4-.92-.59-1.43-.59-.52 0-1.04.2-1.43.59L10.3 9.45l-7.72 7.72c-.78.78-.78 2.05 0 2.83L4 21.41c.39.39.9.59 1.41.59.51 0 1.02-.2 1.41-.59l7.78-7.78 2.81-2.81c.8-.78.8-2.07 0-2.86zM5.41 20L4 18.59l7.72-7.72 1.47 1.35L5.41 20z\"/>\n",
              "  </svg>\n",
              "      </button>\n",
              "      \n",
              "  <style>\n",
              "    .colab-df-container {\n",
              "      display:flex;\n",
              "      flex-wrap:wrap;\n",
              "      gap: 12px;\n",
              "    }\n",
              "\n",
              "    .colab-df-convert {\n",
              "      background-color: #E8F0FE;\n",
              "      border: none;\n",
              "      border-radius: 50%;\n",
              "      cursor: pointer;\n",
              "      display: none;\n",
              "      fill: #1967D2;\n",
              "      height: 32px;\n",
              "      padding: 0 0 0 0;\n",
              "      width: 32px;\n",
              "    }\n",
              "\n",
              "    .colab-df-convert:hover {\n",
              "      background-color: #E2EBFA;\n",
              "      box-shadow: 0px 1px 2px rgba(60, 64, 67, 0.3), 0px 1px 3px 1px rgba(60, 64, 67, 0.15);\n",
              "      fill: #174EA6;\n",
              "    }\n",
              "\n",
              "    [theme=dark] .colab-df-convert {\n",
              "      background-color: #3B4455;\n",
              "      fill: #D2E3FC;\n",
              "    }\n",
              "\n",
              "    [theme=dark] .colab-df-convert:hover {\n",
              "      background-color: #434B5C;\n",
              "      box-shadow: 0px 1px 3px 1px rgba(0, 0, 0, 0.15);\n",
              "      filter: drop-shadow(0px 1px 2px rgba(0, 0, 0, 0.3));\n",
              "      fill: #FFFFFF;\n",
              "    }\n",
              "  </style>\n",
              "\n",
              "      <script>\n",
              "        const buttonEl =\n",
              "          document.querySelector('#df-9bb6dcbf-9d03-4663-8353-dc6903f27b4b button.colab-df-convert');\n",
              "        buttonEl.style.display =\n",
              "          google.colab.kernel.accessAllowed ? 'block' : 'none';\n",
              "\n",
              "        async function convertToInteractive(key) {\n",
              "          const element = document.querySelector('#df-9bb6dcbf-9d03-4663-8353-dc6903f27b4b');\n",
              "          const dataTable =\n",
              "            await google.colab.kernel.invokeFunction('convertToInteractive',\n",
              "                                                     [key], {});\n",
              "          if (!dataTable) return;\n",
              "\n",
              "          const docLinkHtml = 'Like what you see? Visit the ' +\n",
              "            '<a target=\"_blank\" href=https://colab.research.google.com/notebooks/data_table.ipynb>data table notebook</a>'\n",
              "            + ' to learn more about interactive tables.';\n",
              "          element.innerHTML = '';\n",
              "          dataTable['output_type'] = 'display_data';\n",
              "          await google.colab.output.renderOutput(dataTable, element);\n",
              "          const docLink = document.createElement('div');\n",
              "          docLink.innerHTML = docLinkHtml;\n",
              "          element.appendChild(docLink);\n",
              "        }\n",
              "      </script>\n",
              "    </div>\n",
              "  </div>\n",
              "  "
            ],
            "text/plain": [
              "                                                    text  class\n",
              "0      as u.s. budget fight looms, republicans flip t...      1\n",
              "1      u.s. military to accept transgender recruits o...      1\n",
              "2      senior u.s. republican senator: 'let mr. muell...      1\n",
              "3      fbi russia probe helped by australian diplomat...      1\n",
              "4      trump wants postal service to charge 'much mor...      1\n",
              "...                                                  ...    ...\n",
              "44892  mcpain: john mccain furious that iran treated ...      0\n",
              "44893  justice? yahoo settles e-mail privacy class-ac...      0\n",
              "44894  sunnistan: us and allied ‘safe zone’ plan to t...      0\n",
              "44895  how to blow $700 million: al jazeera america f...      0\n",
              "44896  10 u.s. navy sailors held by iranian military ...      0\n",
              "\n",
              "[44897 rows x 2 columns]"
            ]
          },
          "execution_count": 7,
          "metadata": {},
          "output_type": "execute_result"
        }
      ],
      "source": [
        "df"
      ]
    },
    {
      "cell_type": "markdown",
      "metadata": {
        "id": "8GhqYk1a04Li"
      },
      "source": [
        "Check the first five rows of the dataframe to make sure the CSV file was read correctly."
      ]
    },
    {
      "cell_type": "markdown",
      "metadata": {
        "id": "8voAKMLNAGov"
      },
      "source": [
        "Check the dimensions of the dataframe."
      ]
    },
    {
      "cell_type": "code",
      "execution_count": null,
      "metadata": {
        "colab": {
          "base_uri": "https://localhost:8080/"
        },
        "id": "KBc1adzC2qRM",
        "outputId": "2421ed49-5b2b-4c32-d680-b44bd3870201"
      },
      "outputs": [
        {
          "data": {
            "text/plain": [
              "(44897, 2)"
            ]
          },
          "execution_count": 8,
          "metadata": {},
          "output_type": "execute_result"
        }
      ],
      "source": [
        "df.shape"
      ]
    },
    {
      "cell_type": "markdown",
      "metadata": {
        "id": "OYwDDRMPALhC"
      },
      "source": [
        "Drop any duplicates in the dataframe and do so in place so as not to completely resave the dataframe in memory."
      ]
    },
    {
      "cell_type": "code",
      "execution_count": null,
      "metadata": {
        "id": "YlAEL442NxDs"
      },
      "outputs": [],
      "source": [
        "df.drop_duplicates(inplace = True)"
      ]
    },
    {
      "cell_type": "markdown",
      "metadata": {
        "id": "qJyAwrkwBO4K"
      },
      "source": [
        "Recheck the dimensions of the dataframe."
      ]
    },
    {
      "cell_type": "code",
      "execution_count": null,
      "metadata": {
        "colab": {
          "base_uri": "https://localhost:8080/"
        },
        "id": "rofsilLKN-dp",
        "outputId": "040dca1d-16a3-48b3-9878-f446f8a8cbe4"
      },
      "outputs": [
        {
          "data": {
            "text/plain": [
              "(39103, 2)"
            ]
          },
          "execution_count": 10,
          "metadata": {},
          "output_type": "execute_result"
        }
      ],
      "source": [
        "df.shape"
      ]
    },
    {
      "cell_type": "markdown",
      "metadata": {
        "id": "S5ERpk7hBSUP"
      },
      "source": [
        "Download nltk stopwords corpora."
      ]
    },
    {
      "cell_type": "code",
      "execution_count": 11,
      "metadata": {
        "id": "4Wl9cBGfN_hC",
        "colab": {
          "base_uri": "https://localhost:8080/"
        },
        "outputId": "5f407447-4553-4d56-a742-1fe1fdc1d3bd"
      },
      "outputs": [
        {
          "output_type": "stream",
          "name": "stderr",
          "text": [
            "[nltk_data] Downloading package stopwords to /root/nltk_data...\n",
            "[nltk_data]   Package stopwords is already up-to-date!\n"
          ]
        },
        {
          "output_type": "execute_result",
          "data": {
            "text/plain": [
              "True"
            ]
          },
          "metadata": {},
          "execution_count": 11
        }
      ],
      "source": [
        "nltk.download('stopwords')"
      ]
    },
    {
      "cell_type": "markdown",
      "metadata": {
        "id": "h6LgB27IPLeO"
      },
      "source": [
        "Function to clean the article of punctuation and the stopwords using the NLTK toolkit."
      ]
    },
    {
      "cell_type": "code",
      "execution_count": 5,
      "metadata": {
        "id": "aYvbGgM5OTHf"
      },
      "outputs": [],
      "source": [
        "def clean_article(text):\n",
        "  # Remove the punctuation from the text and save into an array\n",
        "  remove_punc = [ch for ch in text if ch not in string.punctuation]\n",
        "  # Recombine the text into a string with the punctuation removed\n",
        "  remove_punc = ''.join(remove_punc)\n",
        "  # Remove the stopwords which carry low semantic value from text\n",
        "  clean_text = [word for word in remove_punc.split() if word.lower() not in stopwords.words('english')]\n",
        "  # Return the cleaned text\n",
        "  return clean_text"
      ]
    },
    {
      "cell_type": "markdown",
      "metadata": {
        "id": "-H5dKJFiEZQg"
      },
      "source": [
        "Check the first five elements of the cleaned article content to check the function works properly."
      ]
    },
    {
      "cell_type": "code",
      "execution_count": 7,
      "metadata": {
        "colab": {
          "base_uri": "https://localhost:8080/"
        },
        "id": "iJc5NHQ2asYZ",
        "outputId": "bf724c6f-d05c-4d41-f0f1-9118d9b18a96"
      },
      "outputs": [
        {
          "output_type": "execute_result",
          "data": {
            "text/plain": [
              "0    [Wed, 05, Apr, 2017, Syria, attack, symptoms, ...\n",
              "1    [Fri, 07, Apr, 2017, 0914, Homs, governor, say...\n",
              "2    [Sun, 16, Apr, 2017, Death, toll, Aleppo, bomb...\n",
              "3    [Wed, 19, Apr, 2017, Aleppo, bomb, blast, kill...\n",
              "4    [Sun, 10, Jul, 2016, 29, Syria, Rebels, Dead, ...\n",
              "Name: article_content, dtype: object"
            ]
          },
          "metadata": {},
          "execution_count": 7
        }
      ],
      "source": [
        "df['article_content'].head().apply(clean_article)"
      ]
    },
    {
      "cell_type": "markdown",
      "metadata": {
        "id": "ppLGCZ_LqJe1"
      },
      "source": [
        "Implement a Bag-of-Words CountVectorizer which maintains multiplicity of words in the article but not the word order or grammar."
      ]
    },
    {
      "cell_type": "code",
      "execution_count": null,
      "metadata": {
        "id": "bpvqkezUbIWS"
      },
      "outputs": [],
      "source": [
        "# Convert article content to a sparse matrix of the counts of tokenized words.\n",
        "bow = CountVectorizer(analyzer = clean_article).fit_transform(df['text'])"
      ]
    },
    {
      "cell_type": "markdown",
      "metadata": {
        "id": "Jk-jZJQhxZZW"
      },
      "source": [
        "# Machine Learning Algorithms"
      ]
    },
    {
      "cell_type": "markdown",
      "metadata": {
        "id": "YKAiLKIdV0Za"
      },
      "source": [
        "Split the dataset into 80% training data and 20% test data."
      ]
    },
    {
      "cell_type": "code",
      "execution_count": null,
      "metadata": {
        "id": "vxM5WCBKeyd8"
      },
      "outputs": [],
      "source": [
        "X_train, X_test, y_train, y_test = train_test_split(bow, df['class'], test_size = 0.2, random_state = 0)"
      ]
    },
    {
      "cell_type": "markdown",
      "metadata": {
        "id": "vX08uHlKU7aj"
      },
      "source": [
        "Train the Multinomial Naive Bayes Classifier on the randomly chosen training data."
      ]
    },
    {
      "cell_type": "code",
      "execution_count": null,
      "metadata": {
        "colab": {
          "base_uri": "https://localhost:8080/"
        },
        "id": "d_6fJTh_gExx",
        "outputId": "7160b05b-19fc-431a-d06e-8cb6037a07c8"
      },
      "outputs": [
        {
          "data": {
            "text/plain": [
              "MultinomialNB()"
            ]
          },
          "execution_count": 17,
          "metadata": {},
          "output_type": "execute_result"
        }
      ],
      "source": [
        "mnb_classifier = MultinomialNB()\n",
        "mnb_classifier.fit(X_train, y_train)"
      ]
    },
    {
      "cell_type": "markdown",
      "metadata": {
        "id": "VnzRuDA7VO0e"
      },
      "source": [
        "Print the results of the Multinomial Naive Bayes Classifier on the training data.\n",
        "\n",
        "---\n",
        "\n"
      ]
    },
    {
      "cell_type": "code",
      "execution_count": null,
      "metadata": {
        "colab": {
          "base_uri": "https://localhost:8080/"
        },
        "id": "O5ZWDTbvgxSE",
        "outputId": "93af0dee-e142-45d8-d7f4-07c684f6ab62"
      },
      "outputs": [
        {
          "name": "stdout",
          "output_type": "stream",
          "text": [
            "              precision    recall  f1-score   support\n",
            "\n",
            "           0       0.99      0.97      0.98     14290\n",
            "           1       0.97      0.99      0.98     16992\n",
            "\n",
            "    accuracy                           0.98     31282\n",
            "   macro avg       0.98      0.98      0.98     31282\n",
            "weighted avg       0.98      0.98      0.98     31282\n",
            "\n"
          ]
        }
      ],
      "source": [
        "pred_mnb = mnb_classifier.predict(X_train)\n",
        "print(classification_report(y_train, pred_mnb))"
      ]
    },
    {
      "cell_type": "markdown",
      "metadata": {
        "id": "8oudjoffWVm7"
      },
      "source": [
        "Print the results of the Multinomial Naive Bayes Classifier on the test data."
      ]
    },
    {
      "cell_type": "code",
      "execution_count": null,
      "metadata": {
        "colab": {
          "base_uri": "https://localhost:8080/",
          "height": 440
        },
        "id": "MpuwGext7D3t",
        "outputId": "9e9870aa-34ce-4cb5-c65a-f217f8a010c4"
      },
      "outputs": [
        {
          "name": "stdout",
          "output_type": "stream",
          "text": [
            "              precision    recall  f1-score   support\n",
            "\n",
            "           0       0.98      0.96      0.97      3618\n",
            "           1       0.96      0.98      0.97      4203\n",
            "\n",
            "    accuracy                           0.97      7821\n",
            "   macro avg       0.97      0.97      0.97      7821\n",
            "weighted avg       0.97      0.97      0.97      7821\n",
            "\n"
          ]
        },
        {
          "data": {
            "image/png": "[encoded data removed]",
            "text/plain": [
              "<Figure size 432x288 with 2 Axes>"
            ]
          },
          "metadata": {},
          "output_type": "display_data"
        }
      ],
      "source": [
        "pred_mnb = mnb_classifier.predict(X_test)\n",
        "print(classification_report(y_test, pred_mnb))\n",
        "# Generate a confusion matrix of predicted vs. actual y-values.\n",
        "cm = confusion_matrix(y_test, pred_mnb, labels=mnb_classifier.classes_)\n",
        "disp = ConfusionMatrixDisplay(confusion_matrix=cm, display_labels=mnb_classifier.classes_)\n",
        "disp.plot()\n",
        "plt.grid(False)\n",
        "plt.show()"
      ]
    },
    {
      "cell_type": "markdown",
      "metadata": {
        "id": "7uZ9aKyQaUeE"
      },
      "source": [
        "Train the Decision Tree Classifier on the randomly chosen training data."
      ]
    },
    {
      "cell_type": "code",
      "execution_count": null,
      "metadata": {
        "colab": {
          "base_uri": "https://localhost:8080/"
        },
        "id": "-J0NXgt57YDB",
        "outputId": "920c2a36-e077-4cf5-bc90-b14b78b3e99b"
      },
      "outputs": [
        {
          "data": {
            "text/plain": [
              "DecisionTreeClassifier()"
            ]
          },
          "execution_count": 20,
          "metadata": {},
          "output_type": "execute_result"
        }
      ],
      "source": [
        "dt_classifier = DecisionTreeClassifier()\n",
        "dt_classifier.fit(X_train, y_train)"
      ]
    },
    {
      "cell_type": "markdown",
      "metadata": {
        "id": "nqiJFSJUafWm"
      },
      "source": [
        "Print the results of the Decision Tree Classifier on the training data."
      ]
    },
    {
      "cell_type": "code",
      "execution_count": null,
      "metadata": {
        "colab": {
          "base_uri": "https://localhost:8080/"
        },
        "id": "RZomgwmFZVOX",
        "outputId": "75d6ddc5-6cea-4522-cf7d-6626a212739f"
      },
      "outputs": [
        {
          "name": "stdout",
          "output_type": "stream",
          "text": [
            "              precision    recall  f1-score   support\n",
            "\n",
            "           0       1.00      1.00      1.00     14290\n",
            "           1       1.00      1.00      1.00     16992\n",
            "\n",
            "    accuracy                           1.00     31282\n",
            "   macro avg       1.00      1.00      1.00     31282\n",
            "weighted avg       1.00      1.00      1.00     31282\n",
            "\n"
          ]
        }
      ],
      "source": [
        "pred_dt = dt_classifier.predict(X_train)\n",
        "print(classification_report(y_train, pred_dt))"
      ]
    },
    {
      "cell_type": "markdown",
      "metadata": {
        "id": "yIFC5OX8a5eY"
      },
      "source": [
        "Print the results of the Decision Tree Classifier on the test data."
      ]
    },
    {
      "cell_type": "code",
      "execution_count": null,
      "metadata": {
        "colab": {
          "base_uri": "https://localhost:8080/",
          "height": 443
        },
        "id": "geWtr5qDaHgV",
        "outputId": "074c7539-7be0-42b0-a1f3-60d02e1969a9"
      },
      "outputs": [
        {
          "name": "stdout",
          "output_type": "stream",
          "text": [
            "              precision    recall  f1-score   support\n",
            "\n",
            "           0       0.95      0.93      0.94      3618\n",
            "           1       0.94      0.96      0.95      4203\n",
            "\n",
            "    accuracy                           0.95      7821\n",
            "   macro avg       0.95      0.95      0.95      7821\n",
            "weighted avg       0.95      0.95      0.95      7821\n",
            "\n"
          ]
        },
        {
          "data": {
            "image/png": "[encoded data removed]",
            "text/plain": [
              "<Figure size 432x288 with 2 Axes>"
            ]
          },
          "metadata": {},
          "output_type": "display_data"
        }
      ],
      "source": [
        "pred_dt = dt_classifier.predict(X_test)\n",
        "print(classification_report(y_test, pred_dt))\n",
        "# Generate a confusion matrix of predicted vs. actual y-values.\n",
        "cm = confusion_matrix(y_test, pred_dt, labels=dt_classifier.classes_)\n",
        "disp = ConfusionMatrixDisplay(confusion_matrix=cm, display_labels=dt_classifier.classes_)\n",
        "disp.plot()\n",
        "plt.grid(False)\n",
        "plt.show()"
      ]
    },
    {
      "cell_type": "markdown",
      "metadata": {
        "id": "nXQN1KUlnqqh"
      },
      "source": [
        "Train the Logistic Regression Classifier on the randomly chosen training data."
      ]
    },
    {
      "cell_type": "code",
      "execution_count": null,
      "metadata": {
        "colab": {
          "base_uri": "https://localhost:8080/"
        },
        "id": "O4G0GAfqaNOa",
        "outputId": "dc6a3a99-765a-422a-aad4-cd755e282a9b"
      },
      "outputs": [
        {
          "data": {
            "text/plain": [
              "LogisticRegression(max_iter=100000)"
            ]
          },
          "execution_count": 23,
          "metadata": {},
          "output_type": "execute_result"
        }
      ],
      "source": [
        "lr_classifier = LogisticRegression(solver='lbfgs', max_iter=100000)\n",
        "lr_classifier.fit(X_train, y_train)"
      ]
    },
    {
      "cell_type": "markdown",
      "metadata": {
        "id": "DeGDR8-any6x"
      },
      "source": [
        "Print the results of the Logistic Regression Classifier on the training data."
      ]
    },
    {
      "cell_type": "code",
      "execution_count": null,
      "metadata": {
        "colab": {
          "base_uri": "https://localhost:8080/"
        },
        "id": "6dDE4M2hdRkO",
        "outputId": "2830596b-d990-4093-d0be-c4cc9c5a307d"
      },
      "outputs": [
        {
          "name": "stdout",
          "output_type": "stream",
          "text": [
            "              precision    recall  f1-score   support\n",
            "\n",
            "           0       1.00      1.00      1.00     14290\n",
            "           1       1.00      1.00      1.00     16992\n",
            "\n",
            "    accuracy                           1.00     31282\n",
            "   macro avg       1.00      1.00      1.00     31282\n",
            "weighted avg       1.00      1.00      1.00     31282\n",
            "\n"
          ]
        }
      ],
      "source": [
        "pred_lr = lr_classifier.predict(X_train)\n",
        "print(classification_report(y_train, pred_lr))"
      ]
    },
    {
      "cell_type": "markdown",
      "metadata": {
        "id": "8dIpHfuSn4zW"
      },
      "source": [
        "Print the results of the Logistic Regression Classifier on the test data."
      ]
    },
    {
      "cell_type": "code",
      "execution_count": null,
      "metadata": {
        "colab": {
          "base_uri": "https://localhost:8080/",
          "height": 440
        },
        "id": "yvxXJJIRfQ_Q",
        "outputId": "3c713116-b3d6-444e-8d4c-65101b0d2b5a"
      },
      "outputs": [
        {
          "name": "stdout",
          "output_type": "stream",
          "text": [
            "              precision    recall  f1-score   support\n",
            "\n",
            "           0       0.99      0.98      0.99      3618\n",
            "           1       0.99      0.99      0.99      4203\n",
            "\n",
            "    accuracy                           0.99      7821\n",
            "   macro avg       0.99      0.99      0.99      7821\n",
            "weighted avg       0.99      0.99      0.99      7821\n",
            "\n"
          ]
        },
        {
          "data": {
            "image/png": "[encoded data removed]",
            "text/plain": [
              "<Figure size 432x288 with 2 Axes>"
            ]
          },
          "metadata": {},
          "output_type": "display_data"
        }
      ],
      "source": [
        "pred_lr = lr_classifier.predict(X_test)\n",
        "print(classification_report(y_test, pred_lr))\n",
        "# Generate a confusion matrix of predicted vs. actual y-values.\n",
        "cm = confusion_matrix(y_test, pred_lr, labels=lr_classifier.classes_)\n",
        "disp = ConfusionMatrixDisplay(confusion_matrix=cm, display_labels=lr_classifier.classes_)\n",
        "disp.plot()\n",
        "plt.grid(False)\n",
        "plt.show()"
      ]
    },
    {
      "cell_type": "markdown",
      "metadata": {
        "id": "t9M8Lg7wn-rU"
      },
      "source": [
        "Train the Random Forest Classifier on the randomly chosen training data."
      ]
    },
    {
      "cell_type": "code",
      "execution_count": null,
      "metadata": {
        "colab": {
          "base_uri": "https://localhost:8080/"
        },
        "id": "Sw-eRvsQfVOI",
        "outputId": "4e1486e3-ee1f-470d-c0af-55dff366ac75"
      },
      "outputs": [
        {
          "data": {
            "text/plain": [
              "RandomForestClassifier()"
            ]
          },
          "execution_count": 26,
          "metadata": {},
          "output_type": "execute_result"
        }
      ],
      "source": [
        "rf_classifier = RandomForestClassifier()\n",
        "rf_classifier.fit(X_train, y_train)"
      ]
    },
    {
      "cell_type": "markdown",
      "metadata": {
        "id": "a3vlF8U8ZLBu"
      },
      "source": [
        "Print the results of the Random Forest Classifier on the training data."
      ]
    },
    {
      "cell_type": "code",
      "execution_count": null,
      "metadata": {
        "colab": {
          "base_uri": "https://localhost:8080/"
        },
        "id": "C04vMpJzg_ue",
        "outputId": "677b00b8-a45b-4f09-fe18-42abf818b64d"
      },
      "outputs": [
        {
          "name": "stdout",
          "output_type": "stream",
          "text": [
            "              precision    recall  f1-score   support\n",
            "\n",
            "           0       1.00      1.00      1.00     14290\n",
            "           1       1.00      1.00      1.00     16992\n",
            "\n",
            "    accuracy                           1.00     31282\n",
            "   macro avg       1.00      1.00      1.00     31282\n",
            "weighted avg       1.00      1.00      1.00     31282\n",
            "\n"
          ]
        }
      ],
      "source": [
        "pred_rf = rf_classifier.predict(X_train)\n",
        "print(classification_report(y_train, pred_rf))"
      ]
    },
    {
      "cell_type": "markdown",
      "metadata": {
        "id": "k2cusYqmZW4l"
      },
      "source": [
        "Print the results of the Random Forest Classifier on the test data."
      ]
    },
    {
      "cell_type": "code",
      "execution_count": null,
      "metadata": {
        "colab": {
          "base_uri": "https://localhost:8080/",
          "height": 440
        },
        "id": "g29ECivSoGSQ",
        "outputId": "f46d67e0-f624-4194-8e4b-04ecf3d46bbd"
      },
      "outputs": [
        {
          "name": "stdout",
          "output_type": "stream",
          "text": [
            "              precision    recall  f1-score   support\n",
            "\n",
            "           0       0.99      0.95      0.97      3618\n",
            "           1       0.96      0.99      0.98      4203\n",
            "\n",
            "    accuracy                           0.97      7821\n",
            "   macro avg       0.98      0.97      0.97      7821\n",
            "weighted avg       0.97      0.97      0.97      7821\n",
            "\n"
          ]
        },
        {
          "data": {
            "image/png": "[encoded data removed]",
            "text/plain": [
              "<Figure size 432x288 with 2 Axes>"
            ]
          },
          "metadata": {},
          "output_type": "display_data"
        }
      ],
      "source": [
        "pred_rf = rf_classifier.predict(X_test)\n",
        "print(classification_report(y_test, pred_rf))\n",
        "# Generate a confusion matrix of predicted vs. actual y-values.\n",
        "cm = confusion_matrix(y_test, pred_rf, labels=rf_classifier.classes_)\n",
        "disp = ConfusionMatrixDisplay(confusion_matrix=cm, display_labels=rf_classifier.classes_)\n",
        "disp.plot()\n",
        "plt.grid(False)\n",
        "plt.show()"
      ]
    },
    {
      "cell_type": "markdown",
      "metadata": {
        "id": "H1CIawufZnqO"
      },
      "source": [
        "Train the Stochastic Gradient Descent Classifier on the randomly chosen training data.\n"
      ]
    },
    {
      "cell_type": "code",
      "execution_count": null,
      "metadata": {
        "colab": {
          "base_uri": "https://localhost:8080/"
        },
        "id": "FlU4mDRCoMml",
        "outputId": "9170e506-8b17-4abc-ddec-0de2abe9d2c6"
      },
      "outputs": [
        {
          "data": {
            "text/plain": [
              "SGDClassifier()"
            ]
          },
          "execution_count": 29,
          "metadata": {},
          "output_type": "execute_result"
        }
      ],
      "source": [
        "sgd_classifier = SGDClassifier()\n",
        "sgd_classifier.fit(X_train, y_train)"
      ]
    },
    {
      "cell_type": "markdown",
      "metadata": {
        "id": "aSfGADdsZ1s9"
      },
      "source": [
        "Print the results of the Stochastic Gradient Descent Classifier on the training data."
      ]
    },
    {
      "cell_type": "code",
      "execution_count": null,
      "metadata": {
        "colab": {
          "base_uri": "https://localhost:8080/"
        },
        "id": "2c58Tjuipqpx",
        "outputId": "ba43f455-6765-4ff2-d532-6a49f569c299"
      },
      "outputs": [
        {
          "name": "stdout",
          "output_type": "stream",
          "text": [
            "              precision    recall  f1-score   support\n",
            "\n",
            "           0       1.00      1.00      1.00     14290\n",
            "           1       1.00      1.00      1.00     16992\n",
            "\n",
            "    accuracy                           1.00     31282\n",
            "   macro avg       1.00      1.00      1.00     31282\n",
            "weighted avg       1.00      1.00      1.00     31282\n",
            "\n"
          ]
        }
      ],
      "source": [
        "pred_sgd = sgd_classifier.predict(X_train)\n",
        "print(classification_report(y_train, pred_sgd))"
      ]
    },
    {
      "cell_type": "markdown",
      "metadata": {
        "id": "VFWRG357abr7"
      },
      "source": [
        "Print the results of the Stochastic Gradient Descent  Classifier on the test data.\n"
      ]
    },
    {
      "cell_type": "code",
      "execution_count": null,
      "metadata": {
        "colab": {
          "base_uri": "https://localhost:8080/",
          "height": 440
        },
        "id": "I37k7b96pwZf",
        "outputId": "ab378aa3-adab-48ab-8feb-0d253968f19a"
      },
      "outputs": [
        {
          "name": "stdout",
          "output_type": "stream",
          "text": [
            "              precision    recall  f1-score   support\n",
            "\n",
            "           0       0.99      0.99      0.99      3618\n",
            "           1       0.99      0.99      0.99      4203\n",
            "\n",
            "    accuracy                           0.99      7821\n",
            "   macro avg       0.99      0.99      0.99      7821\n",
            "weighted avg       0.99      0.99      0.99      7821\n",
            "\n"
          ]
        },
        {
          "data": {
            "image/png": "[encoded data removed]",
            "text/plain": [
              "<Figure size 432x288 with 2 Axes>"
            ]
          },
          "metadata": {},
          "output_type": "display_data"
        }
      ],
      "source": [
        "pred_sgd = sgd_classifier.predict(X_test)\n",
        "print(classification_report(y_test, pred_sgd))\n",
        "# Generate a confusion matrix of predicted vs. actual y-values.\n",
        "cm = confusion_matrix(y_test, pred_sgd, labels=sgd_classifier.classes_)\n",
        "disp = ConfusionMatrixDisplay(confusion_matrix=cm, display_labels=sgd_classifier.classes_)\n",
        "disp.plot()\n",
        "plt.grid(False)\n",
        "plt.show()"
      ]
    },
    {
      "cell_type": "markdown",
      "metadata": {
        "id": "ex2HH1qnFPsI"
      },
      "source": [
        "Train the AdaBoost Classifier on the randomly chosen training data."
      ]
    },
    {
      "cell_type": "code",
      "execution_count": null,
      "metadata": {
        "colab": {
          "base_uri": "https://localhost:8080/"
        },
        "id": "6vIWPRxeYJ38",
        "outputId": "26fe23c2-64ae-478a-e1f0-40444b7f7b16"
      },
      "outputs": [
        {
          "data": {
            "text/plain": [
              "AdaBoostClassifier()"
            ]
          },
          "execution_count": 32,
          "metadata": {},
          "output_type": "execute_result"
        }
      ],
      "source": [
        "ab_classifier = AdaBoostClassifier()\n",
        "ab_classifier.fit(X_train, y_train)"
      ]
    },
    {
      "cell_type": "markdown",
      "metadata": {
        "id": "Rg3naocpFYNK"
      },
      "source": [
        "Print the results of the AdaBoost Classifier on the training data."
      ]
    },
    {
      "cell_type": "code",
      "execution_count": null,
      "metadata": {
        "colab": {
          "base_uri": "https://localhost:8080/"
        },
        "id": "ur_IuGAPdLtb",
        "outputId": "4dbe3d02-50cb-4804-c569-244def9475fe"
      },
      "outputs": [
        {
          "name": "stdout",
          "output_type": "stream",
          "text": [
            "              precision    recall  f1-score   support\n",
            "\n",
            "           0       0.97      0.96      0.97     14290\n",
            "           1       0.97      0.98      0.97     16992\n",
            "\n",
            "    accuracy                           0.97     31282\n",
            "   macro avg       0.97      0.97      0.97     31282\n",
            "weighted avg       0.97      0.97      0.97     31282\n",
            "\n"
          ]
        }
      ],
      "source": [
        "pred_ab = ab_classifier.predict(X_train)\n",
        "print(classification_report(y_train, pred_ab))"
      ]
    },
    {
      "cell_type": "markdown",
      "metadata": {
        "id": "w4RRexvsFiX8"
      },
      "source": [
        "Print the results of the AdaBoost Classifier on the test data."
      ]
    },
    {
      "cell_type": "code",
      "execution_count": null,
      "metadata": {
        "colab": {
          "base_uri": "https://localhost:8080/",
          "height": 440
        },
        "id": "xNCqKZNFdd1l",
        "outputId": "46ff6150-8ade-41ea-d12a-e5ea6fe1cc18"
      },
      "outputs": [
        {
          "name": "stdout",
          "output_type": "stream",
          "text": [
            "              precision    recall  f1-score   support\n",
            "\n",
            "           0       0.97      0.96      0.97      3618\n",
            "           1       0.97      0.97      0.97      4203\n",
            "\n",
            "    accuracy                           0.97      7821\n",
            "   macro avg       0.97      0.97      0.97      7821\n",
            "weighted avg       0.97      0.97      0.97      7821\n",
            "\n"
          ]
        },
        {
          "data": {
            "image/png": "[encoded data removed]",
            "text/plain": [
              "<Figure size 432x288 with 2 Axes>"
            ]
          },
          "metadata": {},
          "output_type": "display_data"
        }
      ],
      "source": [
        "pred_ab = ab_classifier.predict(X_test)\n",
        "print(classification_report(y_test, pred_ab))\n",
        "# Generate a confusion matrix of predicted vs. actual y-values.\n",
        "cm = confusion_matrix(y_test, pred_ab, labels=ab_classifier.classes_)\n",
        "disp = ConfusionMatrixDisplay(confusion_matrix=cm, display_labels=ab_classifier.classes_)\n",
        "disp.plot()\n",
        "plt.grid(False)\n",
        "plt.show()"
      ]
    },
    {
      "cell_type": "markdown",
      "metadata": {
        "id": "_vQDTyNKFuUa"
      },
      "source": [
        "Train the Support Vector Machine Classifier on the randomly chosen training data."
      ]
    },
    {
      "cell_type": "code",
      "execution_count": null,
      "metadata": {
        "colab": {
          "base_uri": "https://localhost:8080/"
        },
        "id": "kVd0m6e5dj7T",
        "outputId": "9b73495d-311c-4c26-8a6c-c191a6e83617"
      },
      "outputs": [
        {
          "data": {
            "text/plain": [
              "SVC()"
            ]
          },
          "execution_count": 35,
          "metadata": {},
          "output_type": "execute_result"
        }
      ],
      "source": [
        "svm_classifier = SVC()\n",
        "svm_classifier.fit(X_train, y_train)"
      ]
    },
    {
      "cell_type": "markdown",
      "metadata": {
        "id": "PxwufRiCGyrL"
      },
      "source": [
        "Print the results of the Support Vector Machine Classifier on the training data."
      ]
    },
    {
      "cell_type": "code",
      "execution_count": null,
      "metadata": {
        "colab": {
          "base_uri": "https://localhost:8080/"
        },
        "id": "sqpo_46Oew7r",
        "outputId": "47105004-45d7-4fbe-8197-3818fdd50e1f"
      },
      "outputs": [
        {
          "name": "stdout",
          "output_type": "stream",
          "text": [
            "              precision    recall  f1-score   support\n",
            "\n",
            "           0       1.00      0.99      1.00     14290\n",
            "           1       0.99      1.00      1.00     16992\n",
            "\n",
            "    accuracy                           1.00     31282\n",
            "   macro avg       1.00      1.00      1.00     31282\n",
            "weighted avg       1.00      1.00      1.00     31282\n",
            "\n"
          ]
        }
      ],
      "source": [
        "pred_svm = svm_classifier.predict(X_train)\n",
        "print(classification_report(y_train, pred_svm))"
      ]
    },
    {
      "cell_type": "markdown",
      "metadata": {
        "id": "7cAF5pQdG27P"
      },
      "source": [
        "Print the results of the Support Vector Machine Classifier on the test data."
      ]
    },
    {
      "cell_type": "code",
      "execution_count": null,
      "metadata": {
        "colab": {
          "base_uri": "https://localhost:8080/",
          "height": 440
        },
        "id": "6VXwu8UffzWm",
        "outputId": "eb6013aa-d81d-4b67-8e6e-dc3edaadc4bb"
      },
      "outputs": [
        {
          "name": "stdout",
          "output_type": "stream",
          "text": [
            "              precision    recall  f1-score   support\n",
            "\n",
            "           0       0.99      0.98      0.98      3618\n",
            "           1       0.98      0.99      0.99      4203\n",
            "\n",
            "    accuracy                           0.98      7821\n",
            "   macro avg       0.98      0.98      0.98      7821\n",
            "weighted avg       0.98      0.98      0.98      7821\n",
            "\n"
          ]
        },
        {
          "data": {
            "image/png": "[encoded data removed]",
            "text/plain": [
              "<Figure size 432x288 with 2 Axes>"
            ]
          },
          "metadata": {},
          "output_type": "display_data"
        }
      ],
      "source": [
        "pred_svm = svm_classifier.predict(X_test)\n",
        "print(classification_report(y_test, pred_svm))\n",
        "# Generate a confusion matrix of predicted vs. actual y-values.\n",
        "cm = confusion_matrix(y_test, pred_svm, labels=svm_classifier.classes_)\n",
        "disp = ConfusionMatrixDisplay(confusion_matrix=cm, display_labels=svm_classifier.classes_)\n",
        "disp.plot()\n",
        "plt.grid(False)\n",
        "plt.show()"
      ]
    },
    {
      "cell_type": "markdown",
      "metadata": {
        "id": "hiUwy1GvHKgK"
      },
      "source": [
        "Use the GridSearchCV package to determine the best value of K in the K Nearest Neighbors classifer on this data."
      ]
    },
    {
      "cell_type": "code",
      "execution_count": null,
      "metadata": {
        "colab": {
          "base_uri": "https://localhost:8080/"
        },
        "id": "BgQzfnsVgCPx",
        "outputId": "ac682e19-05bb-46ec-ab64-f443b8aa392c"
      },
      "outputs": [
        {
          "name": "stdout",
          "output_type": "stream",
          "text": [
            "1\n"
          ]
        }
      ],
      "source": [
        "# Dictionary with for range function to test different values of K.\n",
        "parameters = {\"n_neighbors\": range(1, 50)}\n",
        "# Method to test a set of parameters for an estimator.\n",
        "gridsearch = GridSearchCV(KNeighborsClassifier(), parameters)\n",
        "# Fit the appropriate value of K for the training data.\n",
        "gridsearch.fit(X_train, y_train)\n",
        "# Print the best value of K for K-Nearest Neighbors algorithm on training data.\n",
        "print(gridsearch.best_params_['n_neighbors'])"
      ]
    },
    {
      "cell_type": "markdown",
      "metadata": {
        "id": "6sjKQs5kHnRr"
      },
      "source": [
        "Train the K Nearest Neighbors Classifier on the randomly chosen training data."
      ]
    },
    {
      "cell_type": "code",
      "execution_count": null,
      "metadata": {
        "colab": {
          "base_uri": "https://localhost:8080/"
        },
        "id": "6lUR46tWqxhQ",
        "outputId": "87bc9cd6-7697-4e98-a1cf-e40221605f3a"
      },
      "outputs": [
        {
          "data": {
            "text/plain": [
              "KNeighborsClassifier(n_neighbors=1)"
            ]
          },
          "execution_count": 39,
          "metadata": {},
          "output_type": "execute_result"
        }
      ],
      "source": [
        "# Pass best value of K to KNeighborsClassifier.\n",
        "knn_classifier = KNeighborsClassifier(gridsearch.best_params_['n_neighbors'])\n",
        "knn_classifier.fit(X_train, y_train)"
      ]
    },
    {
      "cell_type": "markdown",
      "metadata": {
        "id": "hTM1gQbaHszj"
      },
      "source": [
        "Print the results of the K Nearest Neighbors Classifier on the training data."
      ]
    },
    {
      "cell_type": "code",
      "execution_count": null,
      "metadata": {
        "colab": {
          "base_uri": "https://localhost:8080/"
        },
        "id": "5uaXKxschX_M",
        "outputId": "005f4bc5-3020-4d2d-9b87-d29444dcc15e"
      },
      "outputs": [
        {
          "name": "stdout",
          "output_type": "stream",
          "text": [
            "              precision    recall  f1-score   support\n",
            "\n",
            "           0       1.00      1.00      1.00     14290\n",
            "           1       1.00      1.00      1.00     16992\n",
            "\n",
            "    accuracy                           1.00     31282\n",
            "   macro avg       1.00      1.00      1.00     31282\n",
            "weighted avg       1.00      1.00      1.00     31282\n",
            "\n"
          ]
        }
      ],
      "source": [
        "pred_knn = knn_classifier.predict(X_train)\n",
        "print(classification_report(y_train, pred_knn))"
      ]
    },
    {
      "cell_type": "markdown",
      "metadata": {
        "id": "3bFfN4-NHxa5"
      },
      "source": [
        "Print the results of the K Nearest Neighbors Classifier on the test data."
      ]
    },
    {
      "cell_type": "code",
      "execution_count": null,
      "metadata": {
        "colab": {
          "base_uri": "https://localhost:8080/",
          "height": 440
        },
        "id": "SliSEeQqhurr",
        "outputId": "dce7dae7-cc2c-415e-9409-9d96ddb91cd5"
      },
      "outputs": [
        {
          "name": "stdout",
          "output_type": "stream",
          "text": [
            "              precision    recall  f1-score   support\n",
            "\n",
            "           0       0.76      0.77      0.77      3618\n",
            "           1       0.80      0.79      0.80      4203\n",
            "\n",
            "    accuracy                           0.78      7821\n",
            "   macro avg       0.78      0.78      0.78      7821\n",
            "weighted avg       0.78      0.78      0.78      7821\n",
            "\n"
          ]
        },
        {
          "data": {
            "image/png": "[encoded data removed]",
            "text/plain": [
              "<Figure size 432x288 with 2 Axes>"
            ]
          },
          "metadata": {},
          "output_type": "display_data"
        }
      ],
      "source": [
        "pred_knn = knn_classifier.predict(X_test)\n",
        "print(classification_report(y_test, pred_knn))\n",
        "# Generate a confusion matrix of predicted vs. actual y-values.\n",
        "cm = confusion_matrix(y_test, pred_knn, labels=knn_classifier.classes_)\n",
        "disp = ConfusionMatrixDisplay(confusion_matrix=cm, display_labels=knn_classifier.classes_)\n",
        "disp.plot()\n",
        "plt.grid(False)\n",
        "plt.show()"
      ]
    },
    {
      "cell_type": "markdown",
      "metadata": {
        "id": "-VNWtLAdczTH"
      },
      "source": [
        "Function to plot the validation and training accuracy and loss."
      ]
    },
    {
      "cell_type": "code",
      "execution_count": null,
      "metadata": {
        "id": "dP87wHqPcwlN"
      },
      "outputs": [],
      "source": [
        "plt.style.use('ggplot')\n",
        "# Plot history of training and validation data.\n",
        "def plt_hist(history):\n",
        "    # Training accuracy history\n",
        "    accuracy = history.history['acc']\n",
        "    # Validation accuracy history\n",
        "    validation_accuracy = history.history['val_acc']\n",
        "    # Training loss history\n",
        "    loss = history.history['loss']\n",
        "    # Validation loss history\n",
        "    validation_loss = history.history['val_loss']\n",
        "    # Variable to hold number of data points to be graphed\n",
        "    x = range(1, len(accuracy) + 1)\n",
        "    # Dimensions of plot\n",
        "    plt.figure(figsize=(12, 5))\n",
        "    # Num rows and columns of subplots with this being the first one.\n",
        "    plt.subplot(1, 2, 1)\n",
        "    # Plot training accuracy history in blue\n",
        "    plt.plot(x, accuracy, 'b', label='Training accuracy')\n",
        "    # Plot validation accuracy history in red\n",
        "    plt.plot(x, validation_accuracy, 'r', label='Validation accuracy')\n",
        "    # Plot title\n",
        "    plt.title('Training/Validation Accuracy')\n",
        "    # Plot legend\n",
        "    plt.legend()\n",
        "    # Second subplot in this plot with 1 row and 2 columns\n",
        "    plt.subplot(1, 2, 2)\n",
        "    # Plot training loss in blue\n",
        "    plt.plot(x, loss, 'b', label='Training loss')\n",
        "    # Plot validation loss in red\n",
        "    plt.plot(x, validation_loss, 'r', label='Validation loss')\n",
        "    # Second plot title\n",
        "    plt.title('Training/Validation Loss')\n",
        "    # Second plot legend\n",
        "    plt.legend()"
      ]
    },
    {
      "cell_type": "code",
      "source": [],
      "metadata": {
        "id": "I3hGZjCpkKLR"
      },
      "execution_count": null,
      "outputs": []
    },
    {
      "cell_type": "markdown",
      "metadata": {
        "id": "uh4s6yy_yJFa"
      },
      "source": [
        "# Baseline Neural Network"
      ]
    },
    {
      "cell_type": "markdown",
      "metadata": {
        "id": "xluBM0Gp6XlI"
      },
      "source": [
        "Create a baseline model for comparison with the more advanced models we will be testing."
      ]
    },
    {
      "cell_type": "code",
      "execution_count": null,
      "metadata": {
        "id": "KguJhXJsiBdu"
      },
      "outputs": [],
      "source": [
        "fake = pd.read_csv(\"Fake.csv\")\n",
        "real = pd.read_csv(\"True.csv\")"
      ]
    },
    {
      "cell_type": "code",
      "execution_count": null,
      "metadata": {
        "id": "ZDrQxWWB4k1r"
      },
      "outputs": [],
      "source": [
        "unknown_publishers = []\n",
        "for index, row in enumerate(real.text.values):\n",
        "  try:\n",
        "    record = row.split('-', maxsplit=1)\n",
        "    record[1]\n",
        "    assert(len(record[0]) < 120)\n",
        "  except:\n",
        "    unknown_publishers.append(index)"
      ]
    },
    {
      "cell_type": "code",
      "execution_count": null,
      "metadata": {
        "id": "b2JFKvLL4lab"
      },
      "outputs": [],
      "source": [
        "real = real.drop(8970, axis=0)\n",
        "publisher = []\n",
        "tmp_text = []\n",
        "for index, row in enumerate(real.text.values):\n",
        "  if index in unknown_publishers:\n",
        "    tmp_text.append(row)\n",
        "    publisher.append(\"Unknown\")\n",
        "  else:\n",
        "    record = row.split('-', maxsplit=1)\n",
        "    publisher.append(record[0].strip())\n",
        "    tmp_text.append(record[1].strip())"
      ]
    },
    {
      "cell_type": "code",
      "execution_count": null,
      "metadata": {
        "id": "WjYKegFl4lRA"
      },
      "outputs": [],
      "source": [
        "real['publisher'] = publisher\n",
        "real['text'] = tmp_text\n",
        "empty_fake_index = [index for index, text in enumerate(fake.text.tolist()) if str(text).strip()==\"\"]\n",
        "fake['text'] = fake['title'] + \" \" + fake['text']\n",
        "real['text'] = real['title'] + \" \" + real['text']\n",
        "fake['text'] = fake['text'].apply(lambda x: str(x).lower())\n",
        "real['text'] = real['text'].apply(lambda x: str(x).lower())\n",
        "fake['class'] = 0\n",
        "real['class'] = 1\n",
        "real = real[['text', 'class']]\n",
        "fake = fake[['text', 'class']]\n",
        "df = real.append(fake, ignore_index=True)"
      ]
    },
    {
      "cell_type": "code",
      "execution_count": null,
      "metadata": {
        "id": "koHNeyOr4lOr"
      },
      "outputs": [],
      "source": [
        "def clean_article(text):\n",
        "  # Remove the punctuation from the text and save into an array\n",
        "  remove_punc = [ch for ch in text if ch not in string.punctuation]\n",
        "  # Recombine the text into a string with the punctuation removed\n",
        "  remove_punc = ''.join(remove_punc)\n",
        "  # Remove the stopwords which carry low semantic value from text\n",
        "  clean_text = [word for word in remove_punc.split() if word.lower() not in stopwords.words('english')]\n",
        "  # Return the cleaned text\n",
        "  return clean_text"
      ]
    },
    {
      "cell_type": "code",
      "execution_count": 12,
      "metadata": {
        "colab": {
          "base_uri": "https://localhost:8080/"
        },
        "id": "9epPxfNr4lMl",
        "outputId": "e71ca937-9b42-4f14-e0df-2e5c616b0e51"
      },
      "outputs": [
        {
          "output_type": "stream",
          "name": "stdout",
          "text": [
            "0        [us, budget, fight, looms, republicans, flip, ...\n",
            "1        [us, military, accept, transgender, recruits, ...\n",
            "2        [senior, us, republican, senator, let, mr, mue...\n",
            "3        [fbi, russia, probe, helped, australian, diplo...\n",
            "4        [trump, wants, postal, service, charge, much, ...\n",
            "                               ...                        \n",
            "44892    [mcpain, john, mccain, furious, iran, treated,...\n",
            "44893    [justice, yahoo, settles, email, privacy, clas...\n",
            "44894    [sunnistan, us, allied, ‘safe, zone’, plan, ta...\n",
            "44895    [blow, 700, million, al, jazeera, america, fin...\n",
            "44896    [10, us, navy, sailors, held, iranian, militar...\n",
            "Name: text, Length: 44897, dtype: object\n"
          ]
        }
      ],
      "source": [
        "X = df['text'].apply(clean_article)\n",
        "print(X)"
      ]
    },
    {
      "cell_type": "code",
      "execution_count": 13,
      "metadata": {
        "id": "2scVki6b48VV"
      },
      "outputs": [],
      "source": [
        "y = df['class'].values"
      ]
    },
    {
      "cell_type": "code",
      "execution_count": 14,
      "metadata": {
        "id": "tSNNWOZ348TO"
      },
      "outputs": [],
      "source": [
        "DIM = 100\n",
        "w2v_model = gensim.models.Word2Vec(sentences=X, size=DIM, window=10, min_count=1)\n",
        "len(w2v_model.wv.vocab)\n",
        "tokenizer = Tokenizer()\n",
        "tokenizer.fit_on_texts(X)"
      ]
    },
    {
      "cell_type": "code",
      "execution_count": 15,
      "metadata": {
        "id": "NKgzN7oW48RH"
      },
      "outputs": [],
      "source": [
        "X = tokenizer.texts_to_sequences(X)\n",
        "maxlen = 1000\n",
        "X = pad_sequences(X, maxlen=maxlen)\n",
        "vocab_size = len(tokenizer.word_index) + 1\n",
        "vocab = tokenizer.word_index"
      ]
    },
    {
      "cell_type": "code",
      "execution_count": 16,
      "metadata": {
        "id": "PMtIFRYA5YXO"
      },
      "outputs": [],
      "source": [
        "def get_weight_matrix(model):\n",
        "  weight_matrix = np.zeros((vocab_size, DIM))\n",
        "  for word, i in vocab.items():\n",
        "    weight_matrix[i] = model.wv[word]\n",
        "  return weight_matrix"
      ]
    },
    {
      "cell_type": "code",
      "execution_count": 17,
      "metadata": {
        "id": "PbV0sRCz5YVH"
      },
      "outputs": [],
      "source": [
        "embedding_vectors = get_weight_matrix(w2v_model)"
      ]
    },
    {
      "cell_type": "code",
      "execution_count": 18,
      "metadata": {
        "id": "q3wlTQKd5YTB"
      },
      "outputs": [],
      "source": [
        "X_train, X_test, y_train, y_test = train_test_split(X, y, test_size = 0.2)"
      ]
    },
    {
      "cell_type": "code",
      "execution_count": 58,
      "metadata": {
        "id": "NuzTB8Ig4IQu"
      },
      "outputs": [],
      "source": [
        "model = Sequential()\n",
        "model.add(layers.Dense(16,  activation='relu'))\n",
        "model.add(layers.Dense(8,  activation='relu'))\n",
        "model.add(layers.Dense(1, activation='sigmoid'))\n",
        "model.compile(optimizer='adam', loss='binary_crossentropy', metrics=['acc'])"
      ]
    },
    {
      "cell_type": "code",
      "source": [
        "history = model.fit(X_train, y_train, validation_split=0.25, epochs=10)\n",
        "loss, accuracy = model.evaluate(X_train, y_train, verbose=False)\n",
        "print(\"Training Accuracy: {:.4f}\".format(accuracy))\n",
        "loss, accuracy = model.evaluate(X_test, y_test, verbose=False)\n",
        "print(\"Testing Accuracy:  {:.4f}\".format(accuracy))\n",
        "plt_hist(history)"
      ],
      "metadata": {
        "colab": {
          "base_uri": "https://localhost:8080/",
          "height": 730
        },
        "id": "a2NyfV4C2LbV",
        "outputId": "4a648e97-4a41-4113-8e0f-f370fec6c9a0"
      },
      "execution_count": 59,
      "outputs": [
        {
          "output_type": "stream",
          "name": "stdout",
          "text": [
            "Epoch 1/10\n",
            "842/842 [==============================] - 5s 5ms/step - loss: 82.6059 - acc: 0.5017 - val_loss: 1.7622 - val_acc: 0.4824\n",
            "Epoch 2/10\n",
            "842/842 [==============================] - 4s 5ms/step - loss: 1.1067 - acc: 0.5096 - val_loss: 1.1973 - val_acc: 0.5259\n",
            "Epoch 3/10\n",
            "842/842 [==============================] - 4s 5ms/step - loss: 0.7614 - acc: 0.5194 - val_loss: 1.0053 - val_acc: 0.5259\n",
            "Epoch 4/10\n",
            "842/842 [==============================] - 4s 5ms/step - loss: 0.6999 - acc: 0.5196 - val_loss: 0.9569 - val_acc: 0.5259\n",
            "Epoch 5/10\n",
            "842/842 [==============================] - 5s 6ms/step - loss: 0.6902 - acc: 0.5198 - val_loss: 0.8943 - val_acc: 0.5259\n",
            "Epoch 6/10\n",
            "842/842 [==============================] - 4s 5ms/step - loss: 0.6887 - acc: 0.5198 - val_loss: 0.8883 - val_acc: 0.5263\n",
            "Epoch 7/10\n",
            "842/842 [==============================] - 4s 4ms/step - loss: 0.6885 - acc: 0.5198 - val_loss: 0.8865 - val_acc: 0.5263\n",
            "Epoch 8/10\n",
            "842/842 [==============================] - 4s 5ms/step - loss: 0.6884 - acc: 0.5198 - val_loss: 0.8856 - val_acc: 0.5263\n",
            "Epoch 9/10\n",
            "842/842 [==============================] - 4s 4ms/step - loss: 0.6883 - acc: 0.5198 - val_loss: 0.8808 - val_acc: 0.5263\n",
            "Epoch 10/10\n",
            "842/842 [==============================] - 4s 4ms/step - loss: 0.6885 - acc: 0.5198 - val_loss: 0.8765 - val_acc: 0.5263\n",
            "Training Accuracy: 0.5214\n",
            "Testing Accuracy:  0.5295\n"
          ]
        },
        {
          "output_type": "display_data",
          "data": {
            "text/plain": [
              "<Figure size 864x360 with 2 Axes>"
            ],
            "image/png": "[encoded data removed]"
          },
          "metadata": {}
        }
      ]
    },
    {
      "cell_type": "code",
      "execution_count": null,
      "metadata": {
        "id": "cvQnFI2nwEcf"
      },
      "outputs": [],
      "source": [
        "model.summary()"
      ]
    },
    {
      "cell_type": "markdown",
      "metadata": {
        "id": "B2EikG3acMYj"
      },
      "source": [
        "Fit the baseline model to the data."
      ]
    },
    {
      "cell_type": "code",
      "execution_count": null,
      "metadata": {
        "colab": {
          "base_uri": "https://localhost:8080/"
        },
        "id": "-kWhW9_SwS8x",
        "outputId": "7bc1a91e-06a4-4dc6-c5be-ff4de0d07a0c"
      },
      "outputs": [
        {
          "name": "stdout",
          "output_type": "stream",
          "text": [
            "Epoch 1/10\n",
            "3592/3592 [==============================] - 11s 3ms/step - loss: 50.4076 - accuracy: 0.5048 - val_loss: 0.7862 - val_accuracy: 0.5228\n",
            "Epoch 2/10\n",
            "3592/3592 [==============================] - 11s 3ms/step - loss: 0.9242 - accuracy: 0.5214 - val_loss: 0.8370 - val_accuracy: 0.5226\n",
            "Epoch 3/10\n",
            "3592/3592 [==============================] - 11s 3ms/step - loss: 0.7188 - accuracy: 0.5229 - val_loss: 0.6945 - val_accuracy: 0.5228\n",
            "Epoch 4/10\n",
            "3592/3592 [==============================] - 12s 3ms/step - loss: 0.6940 - accuracy: 0.5229 - val_loss: 0.6910 - val_accuracy: 0.5229\n",
            "Epoch 5/10\n",
            "3592/3592 [==============================] - 11s 3ms/step - loss: 0.6919 - accuracy: 0.5230 - val_loss: 0.6911 - val_accuracy: 0.5228\n",
            "Epoch 6/10\n",
            "3592/3592 [==============================] - 11s 3ms/step - loss: 0.6907 - accuracy: 0.5230 - val_loss: 0.6911 - val_accuracy: 0.5228\n",
            "Epoch 7/10\n",
            "3592/3592 [==============================] - 11s 3ms/step - loss: 0.6908 - accuracy: 0.5230 - val_loss: 0.6911 - val_accuracy: 0.5228\n",
            "Epoch 8/10\n",
            "3592/3592 [==============================] - 11s 3ms/step - loss: 0.6907 - accuracy: 0.5230 - val_loss: 0.6911 - val_accuracy: 0.5228\n",
            "Epoch 9/10\n",
            "3592/3592 [==============================] - 11s 3ms/step - loss: 0.6908 - accuracy: 0.5230 - val_loss: 0.6911 - val_accuracy: 0.5228\n",
            "Epoch 10/10\n",
            "3592/3592 [==============================] - 11s 3ms/step - loss: 0.6907 - accuracy: 0.5230 - val_loss: 0.6911 - val_accuracy: 0.5228\n"
          ]
        }
      ],
      "source": [
        "history = model.fit(X_train, y_train, validation_split=0.25, epochs=10)\n",
        "loss, accuracy = model.evaluate(X_train, y_train, verbose=False)\n",
        "print(\"Training Accuracy: {:.4f}\".format(accuracy))\n",
        "loss, accuracy = model.evaluate(X_test, y_test, verbose=False)\n",
        "print(\"Testing Accuracy:  {:.4f}\".format(accuracy))\n",
        "plt_hist(history)"
      ]
    },
    {
      "cell_type": "code",
      "execution_count": null,
      "metadata": {
        "id": "7TWjlFT_wxug"
      },
      "outputs": [],
      "source": [
        "clear_session()"
      ]
    },
    {
      "cell_type": "markdown",
      "metadata": {
        "id": "K4JR8EFLc-Gi"
      },
      "source": [
        "Evalute the model and print training and testing accuracy and loss."
      ]
    },
    {
      "cell_type": "code",
      "execution_count": null,
      "metadata": {
        "colab": {
          "base_uri": "https://localhost:8080/"
        },
        "id": "lv5xura212ek",
        "outputId": "74a1c001-6404-4984-cf4d-20b0e68e2101"
      },
      "outputs": [
        {
          "name": "stdout",
          "output_type": "stream",
          "text": [
            "1123/1123 [==============================] - 3s 3ms/step - loss: 0.6912 - accuracy: 0.5230\n",
            "Training Accuracy: 0.5230\n",
            "Training Loss: 0.6912\n",
            "281/281 [==============================] - 1s 2ms/step - loss: 0.6937 - accuracy: 0.5228\n",
            "Testing Accuracy: 0.5228\n",
            "Testing Loss: 0.6937\n"
          ]
        }
      ],
      "source": [
        "# Calculate model accuracy and loss from training data.\n",
        "loss, accuracy = model.evaluate(X_train, y_train)\n",
        "print(\"Training Accuracy: {:.4f}\".format(accuracy))\n",
        "print(\"Training Loss: {:.4f}\".format(loss))\n",
        "# Calculate model accuracy and loss from test data.\n",
        "loss, accuracy = model.evaluate(X_test, y_test)\n",
        "print(\"Testing Accuracy: {:.4f}\".format(accuracy))\n",
        "print(\"Testing Loss: {:.4f}\".format(loss))"
      ]
    },
    {
      "cell_type": "code",
      "execution_count": null,
      "metadata": {
        "colab": {
          "base_uri": "https://localhost:8080/",
          "height": 337
        },
        "id": "S_SJF07yaPFf",
        "outputId": "933ea466-1d59-4d5d-fa8f-134f343de43f"
      },
      "outputs": [
        {
          "data": {
            "image/png": "[encoded data removed]",
            "text/plain": [
              "<Figure size 864x360 with 2 Axes>"
            ]
          },
          "metadata": {},
          "output_type": "display_data"
        }
      ],
      "source": [
        "# Plot the training and validation history.\n",
        "plt_hist(history)"
      ]
    },
    {
      "cell_type": "markdown",
      "metadata": {
        "id": "2fxzJxCjydGa"
      },
      "source": [
        "\n",
        "# Convolutional Neural Network"
      ]
    },
    {
      "cell_type": "code",
      "execution_count": 19,
      "metadata": {
        "id": "XXjQtWT8hctI"
      },
      "outputs": [],
      "source": [
        "model = Sequential()\n",
        "model.add(Embedding(vocab_size, output_dim=DIM, weights=[embedding_vectors], input_length=maxlen, trainable=True))\n",
        "model.add(layers.Conv1D(128, 5, activation='relu'))\n",
        "model.add(layers.MaxPooling1D())\n",
        "model.add(layers.Conv1D(128, 5, activation='relu'))\n",
        "model.add(layers.GlobalMaxPooling1D())\n",
        "model.add(layers.Dense(1, activation='sigmoid'))\n",
        "model.compile(optimizer='adam', loss='binary_crossentropy', metrics=['acc'])"
      ]
    },
    {
      "cell_type": "code",
      "execution_count": 20,
      "metadata": {
        "colab": {
          "base_uri": "https://localhost:8080/",
          "height": 730
        },
        "id": "Bw_RGS4efrSG",
        "outputId": "f12c6e58-6b9d-4465-d8ab-43cd14692b68"
      },
      "outputs": [
        {
          "output_type": "stream",
          "name": "stdout",
          "text": [
            "Epoch 1/10\n",
            "842/842 [==============================] - 18s 19ms/step - loss: 0.1096 - acc: 0.9591 - val_loss: 0.0704 - val_acc: 0.9748\n",
            "Epoch 2/10\n",
            "842/842 [==============================] - 16s 19ms/step - loss: 0.0232 - acc: 0.9922 - val_loss: 0.0354 - val_acc: 0.9894\n",
            "Epoch 3/10\n",
            "842/842 [==============================] - 16s 19ms/step - loss: 0.0070 - acc: 0.9979 - val_loss: 0.0525 - val_acc: 0.9861\n",
            "Epoch 4/10\n",
            "842/842 [==============================] - 16s 19ms/step - loss: 0.0158 - acc: 0.9948 - val_loss: 0.0437 - val_acc: 0.9889\n",
            "Epoch 5/10\n",
            "842/842 [==============================] - 16s 19ms/step - loss: 0.0156 - acc: 0.9952 - val_loss: 0.0508 - val_acc: 0.9875\n",
            "Epoch 6/10\n",
            "842/842 [==============================] - 16s 19ms/step - loss: 0.0040 - acc: 0.9984 - val_loss: 0.0489 - val_acc: 0.9902\n",
            "Epoch 7/10\n",
            "842/842 [==============================] - 16s 19ms/step - loss: 0.0084 - acc: 0.9976 - val_loss: 0.0644 - val_acc: 0.9882\n",
            "Epoch 8/10\n",
            "842/842 [==============================] - 16s 19ms/step - loss: 0.0091 - acc: 0.9975 - val_loss: 0.0603 - val_acc: 0.9903\n",
            "Epoch 9/10\n",
            "842/842 [==============================] - 16s 19ms/step - loss: 0.0051 - acc: 0.9982 - val_loss: 0.0621 - val_acc: 0.9910\n",
            "Epoch 10/10\n",
            "842/842 [==============================] - 16s 19ms/step - loss: 0.0053 - acc: 0.9983 - val_loss: 0.0748 - val_acc: 0.9901\n",
            "Training Accuracy: 0.9965\n",
            "Testing Accuracy:  0.9915\n"
          ]
        },
        {
          "output_type": "display_data",
          "data": {
            "text/plain": [
              "<Figure size 864x360 with 2 Axes>"
            ],
            "image/png": "[encoded data removed]"
          },
          "metadata": {}
        }
      ],
      "source": [
        "history = model.fit(X_train, y_train, validation_split=0.25, epochs=10)\n",
        "loss, accuracy = model.evaluate(X_train, y_train, verbose=False)\n",
        "print(\"Training Accuracy: {:.4f}\".format(accuracy))\n",
        "loss, accuracy = model.evaluate(X_test, y_test, verbose=False)\n",
        "print(\"Testing Accuracy:  {:.4f}\".format(accuracy))\n",
        "plt_hist(history)"
      ]
    },
    {
      "cell_type": "code",
      "execution_count": 21,
      "metadata": {
        "id": "P5-Z1AfDaR5_"
      },
      "outputs": [],
      "source": [
        "clear_session()"
      ]
    },
    {
      "cell_type": "code",
      "execution_count": 22,
      "metadata": {
        "colab": {
          "base_uri": "https://localhost:8080/"
        },
        "id": "L3tKWikqaI_-",
        "outputId": "fa9317a0-98e4-4f5a-a179-0d5ae7378d6c"
      },
      "outputs": [
        {
          "output_type": "stream",
          "name": "stdout",
          "text": [
            "Training Accuracy: 0.9965\n",
            "Training Loss: 0.0221\n",
            "Testing Accuracy: 0.9915\n",
            "Testing Loss: 0.0632\n"
          ]
        }
      ],
      "source": [
        "# Calculate model accuracy and loss from training data.\n",
        "loss, accuracy = model.evaluate(X_train, y_train, verbose=False)\n",
        "print(\"Training Accuracy: {:.4f}\".format(accuracy))\n",
        "print(\"Training Loss: {:.4f}\".format(loss))\n",
        "# Calculate model accuracy and loss from test data.\n",
        "loss, accuracy = model.evaluate(X_test, y_test, verbose=False)\n",
        "print(\"Testing Accuracy: {:.4f}\".format(accuracy))\n",
        "print(\"Testing Loss: {:.4f}\".format(loss))"
      ]
    },
    {
      "cell_type": "markdown",
      "metadata": {
        "id": "pp0eNs93y1D_"
      },
      "source": [
        "# Recurrent Neural Network\n",
        "\n"
      ]
    },
    {
      "cell_type": "code",
      "execution_count": 27,
      "metadata": {
        "id": "cq6N7E0b5T_t"
      },
      "outputs": [],
      "source": [
        "model = Sequential()\n",
        "model.add(Embedding(vocab_size, output_dim=DIM, weights=[embedding_vectors], input_length=maxlen, trainable=False))\n",
        "model.add(LSTM(units=128))\n",
        "model.add(Dense(1, activation='sigmoid'))\n",
        "model.compile(optimizer='adam', loss='binary_crossentropy', metrics=['acc'])"
      ]
    },
    {
      "cell_type": "code",
      "execution_count": 28,
      "metadata": {
        "colab": {
          "base_uri": "https://localhost:8080/",
          "height": 730
        },
        "id": "q-if-dDN7Rwt",
        "outputId": "a527ac05-2410-46f4-c889-d96fd4141cb1"
      },
      "outputs": [
        {
          "output_type": "stream",
          "name": "stdout",
          "text": [
            "Epoch 1/10\n",
            "842/842 [==============================] - 54s 60ms/step - loss: 0.1543 - acc: 0.9427 - val_loss: 0.0802 - val_acc: 0.9727\n",
            "Epoch 2/10\n",
            "842/842 [==============================] - 49s 59ms/step - loss: 0.0588 - acc: 0.9814 - val_loss: 0.0445 - val_acc: 0.9864\n",
            "Epoch 3/10\n",
            "842/842 [==============================] - 50s 59ms/step - loss: 0.0322 - acc: 0.9893 - val_loss: 0.0363 - val_acc: 0.9880\n",
            "Epoch 4/10\n",
            "842/842 [==============================] - 50s 59ms/step - loss: 0.0273 - acc: 0.9912 - val_loss: 0.0380 - val_acc: 0.9885\n",
            "Epoch 5/10\n",
            "842/842 [==============================] - 55s 65ms/step - loss: 0.0138 - acc: 0.9955 - val_loss: 0.0284 - val_acc: 0.9918\n",
            "Epoch 6/10\n",
            "842/842 [==============================] - 50s 60ms/step - loss: 0.0267 - acc: 0.9911 - val_loss: 0.0373 - val_acc: 0.9888\n",
            "Epoch 7/10\n",
            "842/842 [==============================] - 50s 60ms/step - loss: 0.0122 - acc: 0.9960 - val_loss: 0.0384 - val_acc: 0.9879\n",
            "Epoch 8/10\n",
            "842/842 [==============================] - 50s 60ms/step - loss: 0.0075 - acc: 0.9978 - val_loss: 0.0276 - val_acc: 0.9919\n",
            "Epoch 9/10\n",
            "842/842 [==============================] - 50s 59ms/step - loss: 0.0071 - acc: 0.9978 - val_loss: 0.0329 - val_acc: 0.9906\n",
            "Epoch 10/10\n",
            "842/842 [==============================] - 55s 65ms/step - loss: 0.0090 - acc: 0.9973 - val_loss: 0.0255 - val_acc: 0.9927\n",
            "Training Accuracy: 0.9977\n",
            "Testing Accuracy:  0.9915\n"
          ]
        },
        {
          "output_type": "display_data",
          "data": {
            "text/plain": [
              "<Figure size 864x360 with 2 Axes>"
            ],
            "image/png": "[encoded data removed]"
          },
          "metadata": {}
        }
      ],
      "source": [
        "history = model.fit(X_train, y_train, validation_split=0.25, epochs=10)\n",
        "loss, accuracy = model.evaluate(X_train, y_train, verbose=False)\n",
        "print(\"Training Accuracy: {:.4f}\".format(accuracy))\n",
        "loss, accuracy = model.evaluate(X_test, y_test, verbose=False)\n",
        "print(\"Testing Accuracy:  {:.4f}\".format(accuracy))\n",
        "plt_hist(history)"
      ]
    },
    {
      "cell_type": "code",
      "execution_count": 29,
      "metadata": {
        "id": "eHDyuyQhK0rq"
      },
      "outputs": [],
      "source": [
        "clear_session()"
      ]
    },
    {
      "cell_type": "code",
      "execution_count": 30,
      "metadata": {
        "id": "YX427_Q3K1hO",
        "colab": {
          "base_uri": "https://localhost:8080/"
        },
        "outputId": "df28c9fe-f43d-4df6-9395-1f8dd44e3da7"
      },
      "outputs": [
        {
          "output_type": "stream",
          "name": "stdout",
          "text": [
            "Training Accuracy: 0.9977\n",
            "Training Loss: 0.0089\n",
            "Testing Accuracy: 0.9915\n",
            "Testing Loss: 0.0276\n"
          ]
        }
      ],
      "source": [
        "# Calculate model accuracy and loss from training data.\n",
        "loss, accuracy = model.evaluate(X_train, y_train, verbose=False)\n",
        "print(\"Training Accuracy: {:.4f}\".format(accuracy))\n",
        "print(\"Training Loss: {:.4f}\".format(loss))\n",
        "# Calculate model accuracy and loss from test data.\n",
        "loss, accuracy = model.evaluate(X_test, y_test, verbose=False)\n",
        "print(\"Testing Accuracy: {:.4f}\".format(accuracy))\n",
        "print(\"Testing Loss: {:.4f}\".format(loss))"
      ]
    },
    {
      "cell_type": "markdown",
      "metadata": {
        "id": "E_SaI0YSABKp"
      },
      "source": [
        "# Hybrid CNN/RNN Neural Network"
      ]
    },
    {
      "cell_type": "code",
      "execution_count": 24,
      "metadata": {
        "id": "d4HHIbT5Ajgc"
      },
      "outputs": [],
      "source": [
        "model = Sequential()\n",
        "model.add(Embedding(vocab_size, output_dim=DIM, weights=[embedding_vectors], input_length=maxlen, trainable=False))\n",
        "model.add(layers.Conv1D(128, 5, activation='relu'))\n",
        "model.add(layers.MaxPooling1D())\n",
        "model.add(LSTM(units=128))\n",
        "model.add(Dense(1, activation='sigmoid'))\n",
        "model.compile(optimizer='adam', loss='binary_crossentropy', metrics=['acc'])"
      ]
    },
    {
      "cell_type": "code",
      "execution_count": 25,
      "metadata": {
        "id": "KMPCX1gvA2yT",
        "colab": {
          "base_uri": "https://localhost:8080/",
          "height": 730
        },
        "outputId": "21791b37-22d6-4146-a1b7-c16641e5ae50"
      },
      "outputs": [
        {
          "output_type": "stream",
          "name": "stdout",
          "text": [
            "Epoch 1/10\n",
            "842/842 [==============================] - 29s 32ms/step - loss: 0.1105 - acc: 0.9586 - val_loss: 0.0592 - val_acc: 0.9803\n",
            "Epoch 2/10\n",
            "842/842 [==============================] - 27s 32ms/step - loss: 0.0342 - acc: 0.9888 - val_loss: 0.0517 - val_acc: 0.9815\n",
            "Epoch 3/10\n",
            "842/842 [==============================] - 27s 32ms/step - loss: 0.0187 - acc: 0.9938 - val_loss: 0.0246 - val_acc: 0.9909\n",
            "Epoch 4/10\n",
            "842/842 [==============================] - 27s 32ms/step - loss: 0.0106 - acc: 0.9965 - val_loss: 0.0319 - val_acc: 0.9892\n",
            "Epoch 5/10\n",
            "842/842 [==============================] - 27s 32ms/step - loss: 0.0085 - acc: 0.9973 - val_loss: 0.0242 - val_acc: 0.9921\n",
            "Epoch 6/10\n",
            "842/842 [==============================] - 27s 32ms/step - loss: 0.0060 - acc: 0.9981 - val_loss: 0.0229 - val_acc: 0.9921\n",
            "Epoch 7/10\n",
            "842/842 [==============================] - 27s 32ms/step - loss: 0.0041 - acc: 0.9987 - val_loss: 0.0225 - val_acc: 0.9927\n",
            "Epoch 8/10\n",
            "842/842 [==============================] - 27s 32ms/step - loss: 0.0029 - acc: 0.9990 - val_loss: 0.0292 - val_acc: 0.9915\n",
            "Epoch 9/10\n",
            "842/842 [==============================] - 27s 32ms/step - loss: 0.0045 - acc: 0.9986 - val_loss: 0.0239 - val_acc: 0.9922\n",
            "Epoch 10/10\n",
            "842/842 [==============================] - 27s 32ms/step - loss: 0.0028 - acc: 0.9992 - val_loss: 0.0314 - val_acc: 0.9927\n",
            "Training Accuracy: 0.9975\n",
            "Testing Accuracy:  0.9903\n"
          ]
        },
        {
          "output_type": "display_data",
          "data": {
            "text/plain": [
              "<Figure size 864x360 with 2 Axes>"
            ],
            "image/png": "[encoded data removed]"
          },
          "metadata": {}
        }
      ],
      "source": [
        "history = model.fit(X_train, y_train, validation_split=0.25, epochs=10)\n",
        "loss, accuracy = model.evaluate(X_train, y_train, verbose=False)\n",
        "print(\"Training Accuracy: {:.4f}\".format(accuracy))\n",
        "loss, accuracy = model.evaluate(X_test, y_test, verbose=False)\n",
        "print(\"Testing Accuracy:  {:.4f}\".format(accuracy))\n",
        "plt_hist(history)"
      ]
    },
    {
      "cell_type": "code",
      "source": [
        "clear_session()"
      ],
      "metadata": {
        "id": "Xo-uyEea7Ne_"
      },
      "execution_count": 22,
      "outputs": []
    },
    {
      "cell_type": "code",
      "source": [
        "# Calculate model accuracy and loss from training data.\n",
        "loss, accuracy = model.evaluate(X_train, y_train, verbose=False)\n",
        "print(\"Training Accuracy: {:.4f}\".format(accuracy))\n",
        "print(\"Training Loss: {:.4f}\".format(loss))\n",
        "# Calculate model accuracy and loss from test data.\n",
        "loss, accuracy = model.evaluate(X_test, y_test, verbose=False)\n",
        "print(\"Testing Accuracy: {:.4f}\".format(accuracy))\n",
        "print(\"Testing Loss: {:.4f}\".format(loss))"
      ],
      "metadata": {
        "colab": {
          "base_uri": "https://localhost:8080/"
        },
        "id": "KiRbgqPv7RJ8",
        "outputId": "f0b757c8-f841-49fc-f132-f5eaaab08b6e"
      },
      "execution_count": 23,
      "outputs": [
        {
          "output_type": "stream",
          "name": "stdout",
          "text": [
            "Training Accuracy: 0.9975\n",
            "Training Loss: 0.0093\n",
            "Testing Accuracy: 0.9910\n",
            "Testing Loss: 0.0401\n"
          ]
        }
      ]
    },
    {
      "cell_type": "code",
      "source": [],
      "metadata": {
        "id": "q9nY2gyC7UWv"
      },
      "execution_count": null,
      "outputs": []
    }
  ],
  "metadata": {
    "accelerator": "GPU",
    "colab": {
      "provenance": [],
      "collapsed_sections": [
        "IoY1swaRwoCi",
        "Jk-jZJQhxZZW",
        "uh4s6yy_yJFa",
        "2fxzJxCjydGa",
        "pp0eNs93y1D_",
        "E_SaI0YSABKp"
      ],
      "authorship_tag": "ABX9TyPn5JdFXS+aXSZh4fpUEnSk",
      "include_colab_link": true
    },
    "kernelspec": {
      "display_name": "Python 3",
      "name": "python3"
    },
    "language_info": {
      "name": "python"
    }
  },
  "nbformat": 4,
  "nbformat_minor": 0
}